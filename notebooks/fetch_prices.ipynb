{
 "cells": [
  {
   "cell_type": "markdown",
   "id": "a5608a7b-435f-4fcd-93f6-582cacc05833",
   "metadata": {},
   "source": [
    "# ALDI products\n",
    "> This notebook analyzes ALDI products fetched using the supermarket chain's API in `../fetch_prices.py`. "
   ]
  },
  {
   "cell_type": "code",
   "execution_count": 3,
   "id": "856e26f9-f5c1-42ef-8217-0c9fd479b685",
   "metadata": {},
   "outputs": [],
   "source": [
    "import os\n",
    "import pandas as pd\n",
    "import jupyter_black\n",
    "import altair as alt\n",
    "import altair_stiles as altstiles"
   ]
  },
  {
   "cell_type": "code",
   "execution_count": 4,
   "id": "454229e0-4200-4e5f-9184-c5cd231d16b1",
   "metadata": {},
   "outputs": [
    {
     "data": {
      "text/plain": [
       "ThemeRegistry.enable('stiles')"
      ]
     },
     "execution_count": 4,
     "metadata": {},
     "output_type": "execute_result"
    }
   ],
   "source": [
    "jupyter_black.load()\n",
    "pd.options.display.max_columns = 100\n",
    "pd.options.display.max_rows = 1000\n",
    "pd.options.display.max_colwidth = None\n",
    "alt.data_transformers.disable_max_rows()\n",
    "alt.themes.register(\"stiles\", altstiles.theme)\n",
    "alt.themes.enable(\"stiles\")"
   ]
  },
  {
   "cell_type": "markdown",
   "id": "1e01d767-c634-4230-b9f3-672bc6fe9aab",
   "metadata": {},
   "source": [
    "---"
   ]
  },
  {
   "cell_type": "markdown",
   "id": "bd427712-7209-4fd6-9624-5a26b16a9cc6",
   "metadata": {},
   "source": [
    "## Read"
   ]
  },
  {
   "cell_type": "code",
   "execution_count": 23,
   "id": "a83cbe57-ad63-41aa-8b61-0d2ae65572ac",
   "metadata": {},
   "outputs": [],
   "source": [
    "src = pd.read_json(\"https://stilesdata.com/aldi/aldi_products_detailed.json\", dtype=str)"
   ]
  },
  {
   "cell_type": "code",
   "execution_count": 24,
   "id": "55e37442-3038-441c-ad43-3f208934dc0b",
   "metadata": {},
   "outputs": [
    {
     "data": {
      "text/html": [
       "<div>\n",
       "<style scoped>\n",
       "    .dataframe tbody tr th:only-of-type {\n",
       "        vertical-align: middle;\n",
       "    }\n",
       "\n",
       "    .dataframe tbody tr th {\n",
       "        vertical-align: top;\n",
       "    }\n",
       "\n",
       "    .dataframe thead th {\n",
       "        text-align: right;\n",
       "    }\n",
       "</style>\n",
       "<table border=\"1\" class=\"dataframe\">\n",
       "  <thead>\n",
       "    <tr style=\"text-align: right;\">\n",
       "      <th></th>\n",
       "      <th>name</th>\n",
       "      <th>brandName</th>\n",
       "      <th>comparisonPriceUnit</th>\n",
       "      <th>urlSlugText</th>\n",
       "      <th>productConcreteSku</th>\n",
       "      <th>usaSnapEligible</th>\n",
       "      <th>formattedPrice</th>\n",
       "      <th>preFormattedUnitContent</th>\n",
       "      <th>categoryName</th>\n",
       "      <th>categoryKey</th>\n",
       "      <th>mainCategoryName</th>\n",
       "      <th>mainCategoryKey</th>\n",
       "    </tr>\n",
       "  </thead>\n",
       "  <tbody>\n",
       "    <tr>\n",
       "      <th>0</th>\n",
       "      <td>Organic  Blue Corn Tortilla Chips, 8.25 oz</td>\n",
       "      <td>Simply Nature</td>\n",
       "      <td>oz</td>\n",
       "      <td>simply-nature-organic-blue-corn-tortilla-chips-8-25-oz</td>\n",
       "      <td>0000000000000136</td>\n",
       "      <td>True</td>\n",
       "      <td>$2.75</td>\n",
       "      <td>N/A</td>\n",
       "      <td>Featured</td>\n",
       "      <td>228</td>\n",
       "      <td>Featured</td>\n",
       "      <td>228</td>\n",
       "    </tr>\n",
       "  </tbody>\n",
       "</table>\n",
       "</div>"
      ],
      "text/plain": [
       "                                         name      brandName  \\\n",
       "0  Organic  Blue Corn Tortilla Chips, 8.25 oz  Simply Nature   \n",
       "\n",
       "  comparisonPriceUnit                                             urlSlugText  \\\n",
       "0                  oz  simply-nature-organic-blue-corn-tortilla-chips-8-25-oz   \n",
       "\n",
       "  productConcreteSku usaSnapEligible formattedPrice preFormattedUnitContent  \\\n",
       "0   0000000000000136            True          $2.75                     N/A   \n",
       "\n",
       "  categoryName categoryKey mainCategoryName mainCategoryKey  \n",
       "0     Featured         228         Featured             228  "
      ]
     },
     "execution_count": 24,
     "metadata": {},
     "output_type": "execute_result"
    }
   ],
   "source": [
    "src.head(1)"
   ]
  },
  {
   "cell_type": "code",
   "execution_count": null,
   "id": "1a4f5563-33ba-422a-857c-1ed3d4da37f4",
   "metadata": {},
   "outputs": [],
   "source": []
  }
 ],
 "metadata": {
  "kernelspec": {
   "display_name": "Python 3 (ipykernel)",
   "language": "python",
   "name": "python3"
  },
  "language_info": {
   "codemirror_mode": {
    "name": "ipython",
    "version": 3
   },
   "file_extension": ".py",
   "mimetype": "text/x-python",
   "name": "python",
   "nbconvert_exporter": "python",
   "pygments_lexer": "ipython3",
   "version": "3.9.15"
  }
 },
 "nbformat": 4,
 "nbformat_minor": 5
}

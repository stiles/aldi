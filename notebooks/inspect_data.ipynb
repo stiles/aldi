{
 "cells": [
  {
   "cell_type": "markdown",
   "id": "a5608a7b-435f-4fcd-93f6-582cacc05833",
   "metadata": {},
   "source": [
    "# ALDI products\n",
    "> This notebook analyzes ALDI products fetched using the supermarket chain's API in `../fetch_prices.py`. "
   ]
  },
  {
   "cell_type": "code",
   "execution_count": 3,
   "id": "856e26f9-f5c1-42ef-8217-0c9fd479b685",
   "metadata": {},
   "outputs": [],
   "source": [
    "import os\n",
    "import pandas as pd\n",
    "import jupyter_black\n",
    "import altair as alt\n",
    "import altair_stiles as altstiles"
   ]
  },
  {
   "cell_type": "code",
   "execution_count": 4,
   "id": "454229e0-4200-4e5f-9184-c5cd231d16b1",
   "metadata": {},
   "outputs": [
    {
     "data": {
      "text/plain": [
       "ThemeRegistry.enable('stiles')"
      ]
     },
     "execution_count": 4,
     "metadata": {},
     "output_type": "execute_result"
    }
   ],
   "source": [
    "jupyter_black.load()\n",
    "pd.options.display.max_columns = 100\n",
    "pd.options.display.max_rows = 1000\n",
    "pd.options.display.max_colwidth = None\n",
    "alt.data_transformers.disable_max_rows()\n",
    "alt.themes.register(\"stiles\", altstiles.theme)\n",
    "alt.themes.enable(\"stiles\")"
   ]
  },
  {
   "cell_type": "markdown",
   "id": "1e01d767-c634-4230-b9f3-672bc6fe9aab",
   "metadata": {},
   "source": [
    "---"
   ]
  },
  {
   "cell_type": "markdown",
   "id": "bd427712-7209-4fd6-9624-5a26b16a9cc6",
   "metadata": {},
   "source": [
    "## Read"
   ]
  },
  {
   "cell_type": "code",
   "execution_count": 9,
   "id": "a83cbe57-ad63-41aa-8b61-0d2ae65572ac",
   "metadata": {},
   "outputs": [],
   "source": [
    "src = pd.read_csv(\"../data/processed/aldi_products_detailed.csv\", dtype=str)"
   ]
  },
  {
   "cell_type": "code",
   "execution_count": null,
   "id": "55e37442-3038-441c-ad43-3f208934dc0b",
   "metadata": {},
   "outputs": [],
   "source": [
    "src['price_num'] = src['preFormattedUnitContent'].str.split('$', '')"
   ]
  },
  {
   "cell_type": "code",
   "execution_count": 11,
   "id": "b927d17a-2f6e-40a8-9c58-8e6c1063a01f",
   "metadata": {},
   "outputs": [
    {
     "data": {
      "text/plain": [
       "productConcreteSku\n",
       "0000000000001196    8\n",
       "0000000000019631    7\n",
       "0000000000023791    7\n",
       "0000000000023729    7\n",
       "0000000000023723    7\n",
       "                   ..\n",
       "0000000000001495    2\n",
       "0000000000001515    2\n",
       "0000000000001547    2\n",
       "0000000000001574    2\n",
       "0000000000045114    2\n",
       "Name: count, Length: 3341, dtype: int64"
      ]
     },
     "execution_count": 11,
     "metadata": {},
     "output_type": "execute_result"
    }
   ],
   "source": [
    "src[\"productConcreteSku\"].value_counts()"
   ]
  },
  {
   "cell_type": "code",
   "execution_count": 14,
   "id": "9f4c4121-ac2c-44f3-bc65-50cf7a9f34df",
   "metadata": {},
   "outputs": [
    {
     "data": {
      "text/html": [
       "<div>\n",
       "<style scoped>\n",
       "    .dataframe tbody tr th:only-of-type {\n",
       "        vertical-align: middle;\n",
       "    }\n",
       "\n",
       "    .dataframe tbody tr th {\n",
       "        vertical-align: top;\n",
       "    }\n",
       "\n",
       "    .dataframe thead th {\n",
       "        text-align: right;\n",
       "    }\n",
       "</style>\n",
       "<table border=\"1\" class=\"dataframe\">\n",
       "  <thead>\n",
       "    <tr style=\"text-align: right;\">\n",
       "      <th></th>\n",
       "      <th>name</th>\n",
       "      <th>brandName</th>\n",
       "      <th>comparisonPriceUnit</th>\n",
       "      <th>urlSlugText</th>\n",
       "      <th>productConcreteSku</th>\n",
       "      <th>usaSnapEligible</th>\n",
       "      <th>formattedPrice</th>\n",
       "      <th>preFormattedUnitContent</th>\n",
       "      <th>categoryName</th>\n",
       "      <th>categoryKey</th>\n",
       "      <th>mainCategoryName</th>\n",
       "      <th>mainCategoryKey</th>\n",
       "    </tr>\n",
       "  </thead>\n",
       "  <tbody>\n",
       "    <tr>\n",
       "      <th>7063</th>\n",
       "      <td>Meritage Red Wine, 750 ml</td>\n",
       "      <td>Outlander</td>\n",
       "      <td>ml</td>\n",
       "      <td>outlander-meritage-red-wine-750-ml</td>\n",
       "      <td>0000000000000002</td>\n",
       "      <td>False</td>\n",
       "      <td>$7.99</td>\n",
       "      <td>NaN</td>\n",
       "      <td>Alcohol</td>\n",
       "      <td>1</td>\n",
       "      <td>Alcohol</td>\n",
       "      <td>1</td>\n",
       "    </tr>\n",
       "    <tr>\n",
       "      <th>7183</th>\n",
       "      <td>Meritage Red Wine, 750 ml</td>\n",
       "      <td>Outlander</td>\n",
       "      <td>ml</td>\n",
       "      <td>outlander-meritage-red-wine-750-ml</td>\n",
       "      <td>0000000000000002</td>\n",
       "      <td>False</td>\n",
       "      <td>$7.99</td>\n",
       "      <td>NaN</td>\n",
       "      <td>Red Wine</td>\n",
       "      <td>22</td>\n",
       "      <td>Alcohol</td>\n",
       "      <td>1</td>\n",
       "    </tr>\n",
       "  </tbody>\n",
       "</table>\n",
       "</div>"
      ],
      "text/plain": [
       "                           name  brandName comparisonPriceUnit  \\\n",
       "7063  Meritage Red Wine, 750 ml  Outlander                  ml   \n",
       "7183  Meritage Red Wine, 750 ml  Outlander                  ml   \n",
       "\n",
       "                             urlSlugText productConcreteSku usaSnapEligible  \\\n",
       "7063  outlander-meritage-red-wine-750-ml   0000000000000002           False   \n",
       "7183  outlander-meritage-red-wine-750-ml   0000000000000002           False   \n",
       "\n",
       "     formattedPrice preFormattedUnitContent categoryName categoryKey  \\\n",
       "7063          $7.99                     NaN      Alcohol           1   \n",
       "7183          $7.99                     NaN     Red Wine          22   \n",
       "\n",
       "     mainCategoryName mainCategoryKey  \n",
       "7063          Alcohol               1  \n",
       "7183          Alcohol               1  "
      ]
     },
     "execution_count": 14,
     "metadata": {},
     "output_type": "execute_result"
    }
   ],
   "source": [
    "src.query('productConcreteSku == \"0000000000000002\"')"
   ]
  },
  {
   "cell_type": "code",
   "execution_count": null,
   "id": "1a4f5563-33ba-422a-857c-1ed3d4da37f4",
   "metadata": {},
   "outputs": [],
   "source": []
  }
 ],
 "metadata": {
  "kernelspec": {
   "display_name": "Python 3 (ipykernel)",
   "language": "python",
   "name": "python3"
  },
  "language_info": {
   "codemirror_mode": {
    "name": "ipython",
    "version": 3
   },
   "file_extension": ".py",
   "mimetype": "text/x-python",
   "name": "python",
   "nbconvert_exporter": "python",
   "pygments_lexer": "ipython3",
   "version": "3.9.15"
  }
 },
 "nbformat": 4,
 "nbformat_minor": 5
}

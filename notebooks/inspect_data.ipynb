{
 "cells": [
  {
   "cell_type": "markdown",
   "id": "a5608a7b-435f-4fcd-93f6-582cacc05833",
   "metadata": {},
   "source": [
    "# ALDI products catch-all\n",
    "> This notebook is used to read and test outputs of ALDI products fetched using the supermarket chain's API in `../fetch_prices.py`. "
   ]
  },
  {
   "cell_type": "code",
   "execution_count": 3,
   "id": "856e26f9-f5c1-42ef-8217-0c9fd479b685",
   "metadata": {},
   "outputs": [],
   "source": [
    "import os\n",
    "import pandas as pd\n",
    "import jupyter_black\n",
    "import altair as alt\n",
    "import altair_stiles as altstiles"
   ]
  },
  {
   "cell_type": "code",
   "execution_count": 4,
   "id": "454229e0-4200-4e5f-9184-c5cd231d16b1",
   "metadata": {},
   "outputs": [
    {
     "data": {
      "text/plain": [
       "ThemeRegistry.enable('stiles')"
      ]
     },
     "execution_count": 4,
     "metadata": {},
     "output_type": "execute_result"
    }
   ],
   "source": [
    "jupyter_black.load()\n",
    "pd.options.display.max_columns = 100\n",
    "pd.options.display.max_rows = 1000\n",
    "pd.options.display.max_colwidth = None\n",
    "alt.data_transformers.disable_max_rows()\n",
    "alt.themes.register(\"stiles\", altstiles.theme)\n",
    "alt.themes.enable(\"stiles\")"
   ]
  },
  {
   "cell_type": "markdown",
   "id": "1e01d767-c634-4230-b9f3-672bc6fe9aab",
   "metadata": {},
   "source": [
    "---"
   ]
  },
  {
   "cell_type": "markdown",
   "id": "bd427712-7209-4fd6-9624-5a26b16a9cc6",
   "metadata": {},
   "source": [
    "## Read"
   ]
  },
  {
   "cell_type": "code",
   "execution_count": 35,
   "id": "a83cbe57-ad63-41aa-8b61-0d2ae65572ac",
   "metadata": {},
   "outputs": [],
   "source": [
    "src = pd.read_json(\n",
    "    \"https://stilesdata.com/aldi/aldi_products_detailed_latest.json\", dtype=str\n",
    ")"
   ]
  },
  {
   "cell_type": "code",
   "execution_count": 41,
   "id": "55e37442-3038-441c-ad43-3f208934dc0b",
   "metadata": {},
   "outputs": [],
   "source": [
    "src[[\"category\", \"subcategory\"]] = src[\"categories\"].str.split(\",\", expand=True, n=1)"
   ]
  }
 ],
 "metadata": {
  "kernelspec": {
   "display_name": "Python 3 (ipykernel)",
   "language": "python",
   "name": "python3"
  },
  "language_info": {
   "codemirror_mode": {
    "name": "ipython",
    "version": 3
   },
   "file_extension": ".py",
   "mimetype": "text/x-python",
   "name": "python",
   "nbconvert_exporter": "python",
   "pygments_lexer": "ipython3",
   "version": "3.9.15"
  }
 },
 "nbformat": 4,
 "nbformat_minor": 5
}
